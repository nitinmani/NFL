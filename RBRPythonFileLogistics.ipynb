{
 "cells": [
  {
   "cell_type": "code",
   "execution_count": null,
   "metadata": {
    "collapsed": true
   },
   "outputs": [],
   "source": [
    "import json\n",
    "import os\n",
    "\n",
    "\"\"\"Access JSON Directory and Store FileNames and Paths\"\"\"\n",
    "def getJSONFiles(Directory):\n",
    "    fileInformation = {}\n",
    "    for root, dirs, files in os.walk(Directory):\n",
    "        for fileName in files:\n",
    "            fullPath = os.path.join(root, fileName)\n",
    "            fileInformation[fileName] = fullPath\n",
    "    return fileInformation\n",
    "\n",
    "\"\"\"Loads a Game1Play JSONFile To Work With. Example fileName = 180.json\"\"\"\n",
    "def loadJSONFile1(fileName):\n",
    "    with open(\"data/Game1/game1plays/\" + fileName) as data_file:\n",
    "        JSONContents = json.load(data_file)\n",
    "        return JSONContents\n",
    "\n",
    "def loadJSONFile2(fileName):\n",
    "    with open(\"data/Game1/game2plays/\" + fileName) as data_file:\n",
    "        JSONContents = json.load(data_file)\n",
    "        return JSONContents\n",
    "\n",
    "def loadJSONFile3(fileName):\n",
    "    with open(\"data/Game1/game3plays/\" + fileName) as data_file:\n",
    "        JSONContents = json.load(data_file)\n",
    "        return JSONContents\n",
    "\n",
    "\n",
    "\"\"\"Loads a TeamRoster JSONFile To Work With. Example fileName = team1.json\"\"\"\n",
    "def loadTeamJSONFile(fileName):\n",
    "    with open(\"data/Game1/TeamRosters/\" + fileName) as data_file:    \n",
    "        JSONTeamContents = json.load(data_file)\n",
    "        return JSONTeamContents  \n",
    "\n",
    "\n"
   ]
  }
 ],
 "metadata": {
  "kernelspec": {
   "display_name": "Python 3",
   "language": "python",
   "name": "python3"
  },
  "language_info": {
   "codemirror_mode": {
    "name": "ipython",
    "version": 3
   },
   "file_extension": ".py",
   "mimetype": "text/x-python",
   "name": "python",
   "nbconvert_exporter": "python",
   "pygments_lexer": "ipython3",
   "version": "3.4.1"
  }
 },
 "nbformat": 4,
 "nbformat_minor": 0
}
